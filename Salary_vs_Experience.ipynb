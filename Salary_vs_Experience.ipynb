{
 "cells": [
  {
   "cell_type": "markdown",
   "id": "3b1e2a8e",
   "metadata": {},
   "source": [
    "# Salary vs Experience - Linear Regression Case Study\n",
    "This notebook demonstrates simple linear regression using scikit-learn."
   ]
  },
  {
   "cell_type": "code",
   "execution_count": null,
   "id": "e6bd4ac8",
   "metadata": {},
   "outputs": [],
   "source": [
    "\n",
    "import pandas as pd\n",
    "import matplotlib.pyplot as plt\n",
    "\n",
    "# Load dataset\n",
    "data = pd.read_csv(\"Salary_Data.csv\")\n",
    "print(data.head())\n",
    "\n",
    "# Scatter plot\n",
    "plt.scatter(data['YearsExperience'], data['Salary'], color='blue')\n",
    "plt.xlabel(\"Years of Experience\")\n",
    "plt.ylabel(\"Salary\")\n",
    "plt.title(\"Experience vs Salary\")\n",
    "plt.show()\n"
   ]
  },
  {
   "cell_type": "code",
   "execution_count": null,
   "id": "4186f4aa",
   "metadata": {},
   "outputs": [],
   "source": [
    "\n",
    "from sklearn.linear_model import LinearRegression\n",
    "\n",
    "X = data[['YearsExperience']]\n",
    "y = data['Salary']\n",
    "\n",
    "# Train model\n",
    "model = LinearRegression()\n",
    "model.fit(X, y)\n",
    "\n",
    "print(\"Slope (Coefficient):\", model.coef_)\n",
    "print(\"Intercept:\", model.intercept_)\n"
   ]
  },
  {
   "cell_type": "code",
   "execution_count": null,
   "id": "f0f93677",
   "metadata": {},
   "outputs": [],
   "source": [
    "\n",
    "# Predictions\n",
    "y_pred = model.predict(X)\n",
    "\n",
    "# Plot regression line\n",
    "plt.scatter(X, y, color='blue', label=\"Actual Data\")\n",
    "plt.plot(X, y_pred, color='red', label=\"Regression Line\")\n",
    "plt.xlabel(\"Years of Experience\")\n",
    "plt.ylabel(\"Salary\")\n",
    "plt.legend()\n",
    "plt.show()\n"
   ]
  },
  {
   "cell_type": "code",
   "execution_count": null,
   "id": "cbfc56a0",
   "metadata": {},
   "outputs": [],
   "source": [
    "\n",
    "# Predict salary for 5 years experience\n",
    "exp = [[5]]\n",
    "predicted_salary = model.predict(exp)\n",
    "print(\"Predicted salary for 5 years experience:\", predicted_salary)\n"
   ]
  },
  {
   "cell_type": "code",
   "execution_count": null,
   "id": "232f723e",
   "metadata": {},
   "outputs": [],
   "source": [
    "\n",
    "from sklearn.metrics import mean_squared_error, r2_score\n",
    "\n",
    "print(\"MSE:\", mean_squared_error(y, y_pred))\n",
    "print(\"R2 Score:\", r2_score(y, y_pred))\n"
   ]
  }
 ],
 "metadata": {},
 "nbformat": 4,
 "nbformat_minor": 5
}
